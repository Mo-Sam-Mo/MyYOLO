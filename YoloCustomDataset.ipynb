{
  "nbformat": 4,
  "nbformat_minor": 0,
  "metadata": {
    "colab": {
      "provenance": [],
      "gpuType": "T4"
    },
    "kernelspec": {
      "name": "python3",
      "display_name": "Python 3"
    },
    "language_info": {
      "name": "python"
    },
    "accelerator": "GPU"
  },
  "cells": [
    {
      "cell_type": "markdown",
      "source": [
        "بسم الله الرحمن الرحيم"
      ],
      "metadata": {
        "id": "_L0vGjDT4MIb"
      }
    },
    {
      "cell_type": "markdown",
      "source": [
        "# Libs"
      ],
      "metadata": {
        "id": "FkWQjmTY4QRR"
      }
    },
    {
      "cell_type": "code",
      "source": [
        "!wget https://www.dropbox.com/s/agmzwk95v96ihic/open-images-bus-trucks.tar.xz\n",
        "!tar -xf open-images-bus-trucks.tar.xz\n",
        "!rm open-images-bus-trucks.tar.xz"
      ],
      "metadata": {
        "colab": {
          "base_uri": "https://localhost:8080/"
        },
        "id": "9Pb84UcyGZyj",
        "outputId": "d0ae2d6f-8bdb-4c12-9243-c5fc33cfa9a0"
      },
      "execution_count": 2,
      "outputs": [
        {
          "output_type": "stream",
          "name": "stdout",
          "text": [
            "--2025-07-28 16:47:50--  https://www.dropbox.com/s/agmzwk95v96ihic/open-images-bus-trucks.tar.xz\n",
            "Resolving www.dropbox.com (www.dropbox.com)... 162.125.1.18, 2620:100:6016:18::a27d:112\n",
            "Connecting to www.dropbox.com (www.dropbox.com)|162.125.1.18|:443... connected.\n",
            "HTTP request sent, awaiting response... 302 Found\n",
            "Location: https://www.dropbox.com/scl/fi/o0nmae9t5y3ttodk7dute/open-images-bus-trucks.tar.xz?rlkey=2rx3h01o5zqtdww4pwhejgpie [following]\n",
            "--2025-07-28 16:47:50--  https://www.dropbox.com/scl/fi/o0nmae9t5y3ttodk7dute/open-images-bus-trucks.tar.xz?rlkey=2rx3h01o5zqtdww4pwhejgpie\n",
            "Reusing existing connection to www.dropbox.com:443.\n",
            "HTTP request sent, awaiting response... 302 Found\n",
            "Location: https://ucf333e375f4dde1d1dcc1ddc17f.dl.dropboxusercontent.com/cd/0/inline/CuWdDfccmtIQQ0AEtiyUSnLQkWY3rvwMCEfTjuI6RRAxtiWLHntPTjQrl2JaGHbATifc-rWq7BntBWsAFq0J9FioBbjaxTFQMUcaUgRuTZ9G1TNfrA73DJmgheEz6vuu-_hGpqypaC4RD9y_c2s_KwL6/file# [following]\n",
            "--2025-07-28 16:47:50--  https://ucf333e375f4dde1d1dcc1ddc17f.dl.dropboxusercontent.com/cd/0/inline/CuWdDfccmtIQQ0AEtiyUSnLQkWY3rvwMCEfTjuI6RRAxtiWLHntPTjQrl2JaGHbATifc-rWq7BntBWsAFq0J9FioBbjaxTFQMUcaUgRuTZ9G1TNfrA73DJmgheEz6vuu-_hGpqypaC4RD9y_c2s_KwL6/file\n",
            "Resolving ucf333e375f4dde1d1dcc1ddc17f.dl.dropboxusercontent.com (ucf333e375f4dde1d1dcc1ddc17f.dl.dropboxusercontent.com)... 162.125.1.15, 2620:100:6016:15::a27d:10f\n",
            "Connecting to ucf333e375f4dde1d1dcc1ddc17f.dl.dropboxusercontent.com (ucf333e375f4dde1d1dcc1ddc17f.dl.dropboxusercontent.com)|162.125.1.15|:443... connected.\n",
            "HTTP request sent, awaiting response... 302 Found\n",
            "Location: /cd/0/inline2/CuVv0FY9cYMaqc5i-aKD4m5bGJdZM-lVXffQ-Z4q1QLBOUkCj2zMRJkGdxautXUc291dfhVR-TLQfhM1e_BkyQa86puKmBX9g9tbYJFj4ISXr6sDKlNQ5Zc4ViwVpdGlDmXuLeGoun63GGXs3ZVp1k-m21wr3oKPLx_4jlXiuANGJa6LL9siSmmtItmOSGvww1sz-QrN_8XVMPFrRHaewB-dn8S86UgWP5zIgsnSBSF-QncKX4ZaL_dCyU0rxdk1qsstBSdwSzrHGIMDPJ85yeewIMgIqd5KiaoZ5EVkboNDwUpzCBW1_QdhHgQHn0K3VuGQV-ZU9IMQB4r_kP1px3Oyr-Iynzs7474Dhmxgcow9rW7pGpCKwGFXLy4cq80gJDo/file [following]\n",
            "--2025-07-28 16:47:51--  https://ucf333e375f4dde1d1dcc1ddc17f.dl.dropboxusercontent.com/cd/0/inline2/CuVv0FY9cYMaqc5i-aKD4m5bGJdZM-lVXffQ-Z4q1QLBOUkCj2zMRJkGdxautXUc291dfhVR-TLQfhM1e_BkyQa86puKmBX9g9tbYJFj4ISXr6sDKlNQ5Zc4ViwVpdGlDmXuLeGoun63GGXs3ZVp1k-m21wr3oKPLx_4jlXiuANGJa6LL9siSmmtItmOSGvww1sz-QrN_8XVMPFrRHaewB-dn8S86UgWP5zIgsnSBSF-QncKX4ZaL_dCyU0rxdk1qsstBSdwSzrHGIMDPJ85yeewIMgIqd5KiaoZ5EVkboNDwUpzCBW1_QdhHgQHn0K3VuGQV-ZU9IMQB4r_kP1px3Oyr-Iynzs7474Dhmxgcow9rW7pGpCKwGFXLy4cq80gJDo/file\n",
            "Reusing existing connection to ucf333e375f4dde1d1dcc1ddc17f.dl.dropboxusercontent.com:443.\n",
            "HTTP request sent, awaiting response... 200 OK\n",
            "Length: 378930484 (361M) [application/octet-stream]\n",
            "Saving to: ‘open-images-bus-trucks.tar.xz’\n",
            "\n",
            "open-images-bus-tru 100%[===================>] 361.38M  32.2MB/s    in 9.7s    \n",
            "\n",
            "2025-07-28 16:48:01 (37.2 MB/s) - ‘open-images-bus-trucks.tar.xz’ saved [378930484/378930484]\n",
            "\n"
          ]
        }
      ]
    },
    {
      "cell_type": "code",
      "source": [
        "!pip install ultralytics --q"
      ],
      "metadata": {
        "colab": {
          "base_uri": "https://localhost:8080/"
        },
        "id": "jMW_e5Z1O5xe",
        "outputId": "2f04fb7b-d824-429c-a71b-a37aade8305e"
      },
      "execution_count": 3,
      "outputs": [
        {
          "output_type": "stream",
          "name": "stdout",
          "text": [
            "\u001b[2K   \u001b[90m━━━━━━━━━━━━━━━━━━━━━━━━━━━━━━━━━━━━━━━━\u001b[0m \u001b[32m1.0/1.0 MB\u001b[0m \u001b[31m25.8 MB/s\u001b[0m eta \u001b[36m0:00:00\u001b[0m\n",
            "\u001b[2K   \u001b[90m━━━━━━━━━━━━━━━━━━━━━━━━━━━━━━━━━━━━━━━━\u001b[0m \u001b[32m363.4/363.4 MB\u001b[0m \u001b[31m3.8 MB/s\u001b[0m eta \u001b[36m0:00:00\u001b[0m\n",
            "\u001b[2K   \u001b[90m━━━━━━━━━━━━━━━━━━━━━━━━━━━━━━━━━━━━━━━━\u001b[0m \u001b[32m13.8/13.8 MB\u001b[0m \u001b[31m67.7 MB/s\u001b[0m eta \u001b[36m0:00:00\u001b[0m\n",
            "\u001b[2K   \u001b[90m━━━━━━━━━━━━━━━━━━━━━━━━━━━━━━━━━━━━━━━━\u001b[0m \u001b[32m24.6/24.6 MB\u001b[0m \u001b[31m36.9 MB/s\u001b[0m eta \u001b[36m0:00:00\u001b[0m\n",
            "\u001b[2K   \u001b[90m━━━━━━━━━━━━━━━━━━━━━━━━━━━━━━━━━━━━━━━━\u001b[0m \u001b[32m883.7/883.7 kB\u001b[0m \u001b[31m45.3 MB/s\u001b[0m eta \u001b[36m0:00:00\u001b[0m\n",
            "\u001b[2K   \u001b[90m━━━━━━━━━━━━━━━━━━━━━━━━━━━━━━━━━━━━━━━━\u001b[0m \u001b[32m664.8/664.8 MB\u001b[0m \u001b[31m2.2 MB/s\u001b[0m eta \u001b[36m0:00:00\u001b[0m\n",
            "\u001b[2K   \u001b[90m━━━━━━━━━━━━━━━━━━━━━━━━━━━━━━━━━━━━━━━━\u001b[0m \u001b[32m211.5/211.5 MB\u001b[0m \u001b[31m5.4 MB/s\u001b[0m eta \u001b[36m0:00:00\u001b[0m\n",
            "\u001b[2K   \u001b[90m━━━━━━━━━━━━━━━━━━━━━━━━━━━━━━━━━━━━━━━━\u001b[0m \u001b[32m56.3/56.3 MB\u001b[0m \u001b[31m13.5 MB/s\u001b[0m eta \u001b[36m0:00:00\u001b[0m\n",
            "\u001b[2K   \u001b[90m━━━━━━━━━━━━━━━━━━━━━━━━━━━━━━━━━━━━━━━━\u001b[0m \u001b[32m127.9/127.9 MB\u001b[0m \u001b[31m6.9 MB/s\u001b[0m eta \u001b[36m0:00:00\u001b[0m\n",
            "\u001b[2K   \u001b[90m━━━━━━━━━━━━━━━━━━━━━━━━━━━━━━━━━━━━━━━━\u001b[0m \u001b[32m207.5/207.5 MB\u001b[0m \u001b[31m6.8 MB/s\u001b[0m eta \u001b[36m0:00:00\u001b[0m\n",
            "\u001b[2K   \u001b[90m━━━━━━━━━━━━━━━━━━━━━━━━━━━━━━━━━━━━━━━━\u001b[0m \u001b[32m21.1/21.1 MB\u001b[0m \u001b[31m98.3 MB/s\u001b[0m eta \u001b[36m0:00:00\u001b[0m\n",
            "\u001b[?25h"
          ]
        }
      ]
    },
    {
      "cell_type": "code",
      "execution_count": 4,
      "metadata": {
        "id": "TFhFskfh4ELr",
        "colab": {
          "base_uri": "https://localhost:8080/"
        },
        "outputId": "0d1e2b9e-135a-4d04-8857-bdabd0309b6a"
      },
      "outputs": [
        {
          "output_type": "stream",
          "name": "stdout",
          "text": [
            "Creating new Ultralytics Settings v0.0.6 file ✅ \n",
            "View Ultralytics Settings with 'yolo settings' or at '/root/.config/Ultralytics/settings.json'\n",
            "Update Settings with 'yolo settings key=value', i.e. 'yolo settings runs_dir=path/to/dir'. For help see https://docs.ultralytics.com/quickstart/#ultralytics-settings.\n"
          ]
        }
      ],
      "source": [
        "import os\n",
        "from ultralytics import YOLO"
      ]
    },
    {
      "cell_type": "markdown",
      "source": [
        "# Data"
      ],
      "metadata": {
        "id": "QfWtxUKN4SzK"
      }
    },
    {
      "cell_type": "code",
      "source": [
        "main_dir = '/content/dataset'\n",
        "os.makedirs(main_dir, exist_ok=True)"
      ],
      "metadata": {
        "id": "8I1vusJj4Wxx"
      },
      "execution_count": 5,
      "outputs": []
    },
    {
      "cell_type": "code",
      "source": [
        "images_dir = main_dir + '/images'\n",
        "labels_dir = main_dir + '/labels'"
      ],
      "metadata": {
        "id": "6qZexbJ3JCOp"
      },
      "execution_count": 6,
      "outputs": []
    },
    {
      "cell_type": "code",
      "source": [
        "os.makedirs(images_dir, exist_ok=True)\n",
        "os.makedirs(labels_dir, exist_ok=True)"
      ],
      "metadata": {
        "id": "U-Bqb81oImfa"
      },
      "execution_count": 7,
      "outputs": []
    },
    {
      "cell_type": "code",
      "source": [
        "os.makedirs(images_dir + '/train', exist_ok=True)\n",
        "os.makedirs(images_dir + '/val', exist_ok=True)"
      ],
      "metadata": {
        "id": "BJbrDJurJNT4"
      },
      "execution_count": 8,
      "outputs": []
    },
    {
      "cell_type": "code",
      "source": [
        "os.makedirs(labels_dir + '/train', exist_ok=True)\n",
        "os.makedirs(labels_dir + '/val', exist_ok=True)"
      ],
      "metadata": {
        "id": "TIVxyfucI5b4"
      },
      "execution_count": 9,
      "outputs": []
    },
    {
      "cell_type": "code",
      "source": [
        "t = 'data/obj/b232af5a927b0f7b.jpg'"
      ],
      "metadata": {
        "id": "OePPB-4N_mVs"
      },
      "execution_count": 15,
      "outputs": []
    },
    {
      "cell_type": "code",
      "source": [
        "os.path.splitext(os.path.basename(t.strip()))[0]"
      ],
      "metadata": {
        "colab": {
          "base_uri": "https://localhost:8080/",
          "height": 36
        },
        "id": "yZMB2GcU_p80",
        "outputId": "2f80847a-6eda-43dd-f2b3-0a821f4df36d"
      },
      "execution_count": 21,
      "outputs": [
        {
          "output_type": "execute_result",
          "data": {
            "text/plain": [
              "'b232af5a927b0f7b'"
            ],
            "application/vnd.google.colaboratory.intrinsic+json": {
              "type": "string"
            }
          },
          "metadata": {},
          "execution_count": 21
        }
      ]
    },
    {
      "cell_type": "code",
      "source": [],
      "metadata": {
        "id": "MWmjk6Qm_zUs"
      },
      "execution_count": null,
      "outputs": []
    },
    {
      "cell_type": "code",
      "source": [
        "def prepare_data(src, dest):\n",
        "  with open(src, 'r') as file:\n",
        "    lines = file.readlines()\n",
        "\n",
        "  samplePath = [os.path.splitext(os.path.basename(line.strip()))[0] for line in lines]\n",
        "\n",
        "  for sample in samplePath:\n",
        "    try:\n",
        "      os.rename('/content/open-images-bus-trucks/images/' + sample + '.jpg', images_dir + '/' + dest + '/' + sample + '.jpg')\n",
        "      os.rename('/content/open-images-bus-trucks/yolo_labels/all/labels/' + sample + '.txt', labels_dir + '/' + dest + '/' + sample + '.txt')\n",
        "    except:\n",
        "      continue"
      ],
      "metadata": {
        "id": "1IvcRehYKQGY"
      },
      "execution_count": 22,
      "outputs": []
    },
    {
      "cell_type": "code",
      "source": [
        "prepare_data('/content/open-images-bus-trucks/yolo_labels/all/train.txt', 'train')"
      ],
      "metadata": {
        "id": "eHGSYKeiKQcH"
      },
      "execution_count": 23,
      "outputs": []
    },
    {
      "cell_type": "code",
      "source": [
        "prepare_data('/content/open-images-bus-trucks/yolo_labels/all/val.txt', 'val')"
      ],
      "metadata": {
        "id": "BYMZ9RK1JMaY"
      },
      "execution_count": 24,
      "outputs": []
    },
    {
      "cell_type": "code",
      "source": [
        "yaml_content = \"\"\"\n",
        "path: /content/dataset\n",
        "train: /content/dataset/images/train\n",
        "val: /content/dataset/images/val\n",
        "\n",
        "names:\n",
        "  0: Bus\n",
        "  1: Truck\n",
        "\"\"\"\n",
        "\n",
        "with open('/content/dataset/data.yaml', 'w') as f:\n",
        "    f.write(yaml_content)"
      ],
      "metadata": {
        "id": "qX8sYy-jM78m"
      },
      "execution_count": 25,
      "outputs": []
    },
    {
      "cell_type": "code",
      "source": [
        "model = YOLO('yolo11n.pt')"
      ],
      "metadata": {
        "colab": {
          "base_uri": "https://localhost:8080/"
        },
        "id": "LPLODB2QPtPV",
        "outputId": "4e0af205-413a-4050-8b97-34331ce0724c"
      },
      "execution_count": 26,
      "outputs": [
        {
          "output_type": "stream",
          "name": "stdout",
          "text": [
            "Downloading https://github.com/ultralytics/assets/releases/download/v8.3.0/yolo11n.pt to 'yolo11n.pt'...\n"
          ]
        },
        {
          "output_type": "stream",
          "name": "stderr",
          "text": [
            "100%|██████████| 5.35M/5.35M [00:00<00:00, 109MB/s]\n"
          ]
        }
      ]
    },
    {
      "cell_type": "code",
      "source": [
        "results = model.train(data='/content/dataset/data.yaml', epochs=5, project='yolo_train', name='log', device=[0])"
      ],
      "metadata": {
        "colab": {
          "base_uri": "https://localhost:8080/"
        },
        "id": "L7vuLtg1P3TU",
        "outputId": "88c03450-c9f6-46e3-b120-0586b1345bc8"
      },
      "execution_count": 31,
      "outputs": [
        {
          "output_type": "stream",
          "name": "stdout",
          "text": [
            "Ultralytics 8.3.170 🚀 Python-3.11.13 torch-2.6.0+cu124 CUDA:0 (Tesla T4, 15095MiB)\n",
            "\u001b[34m\u001b[1mengine/trainer: \u001b[0magnostic_nms=False, amp=True, augment=False, auto_augment=randaugment, batch=16, bgr=0.0, box=7.5, cache=False, cfg=None, classes=None, close_mosaic=10, cls=0.5, conf=None, copy_paste=0.0, copy_paste_mode=flip, cos_lr=False, cutmix=0.0, data=/content/dataset/data.yaml, degrees=0.0, deterministic=True, device=0, dfl=1.5, dnn=False, dropout=0.0, dynamic=False, embed=None, epochs=5, erasing=0.4, exist_ok=False, fliplr=0.5, flipud=0.0, format=torchscript, fraction=1.0, freeze=None, half=False, hsv_h=0.015, hsv_s=0.7, hsv_v=0.4, imgsz=640, int8=False, iou=0.7, keras=False, kobj=1.0, line_width=None, lr0=0.01, lrf=0.01, mask_ratio=4, max_det=300, mixup=0.0, mode=train, model=yolo11n.pt, momentum=0.937, mosaic=1.0, multi_scale=False, name=log4, nbs=64, nms=False, opset=None, optimize=False, optimizer=auto, overlap_mask=True, patience=100, perspective=0.0, plots=True, pose=12.0, pretrained=True, profile=False, project=yolo_train, rect=False, resume=False, retina_masks=False, save=True, save_conf=False, save_crop=False, save_dir=yolo_train/log4, save_frames=False, save_json=False, save_period=-1, save_txt=False, scale=0.5, seed=0, shear=0.0, show=False, show_boxes=True, show_conf=True, show_labels=True, simplify=True, single_cls=False, source=None, split=val, stream_buffer=False, task=detect, time=None, tracker=botsort.yaml, translate=0.1, val=True, verbose=True, vid_stride=1, visualize=False, warmup_bias_lr=0.1, warmup_epochs=3.0, warmup_momentum=0.8, weight_decay=0.0005, workers=8, workspace=None\n",
            "\n",
            "                   from  n    params  module                                       arguments                     \n",
            "  0                  -1  1       464  ultralytics.nn.modules.conv.Conv             [3, 16, 3, 2]                 \n",
            "  1                  -1  1      4672  ultralytics.nn.modules.conv.Conv             [16, 32, 3, 2]                \n",
            "  2                  -1  1      6640  ultralytics.nn.modules.block.C3k2            [32, 64, 1, False, 0.25]      \n",
            "  3                  -1  1     36992  ultralytics.nn.modules.conv.Conv             [64, 64, 3, 2]                \n",
            "  4                  -1  1     26080  ultralytics.nn.modules.block.C3k2            [64, 128, 1, False, 0.25]     \n",
            "  5                  -1  1    147712  ultralytics.nn.modules.conv.Conv             [128, 128, 3, 2]              \n",
            "  6                  -1  1     87040  ultralytics.nn.modules.block.C3k2            [128, 128, 1, True]           \n",
            "  7                  -1  1    295424  ultralytics.nn.modules.conv.Conv             [128, 256, 3, 2]              \n",
            "  8                  -1  1    346112  ultralytics.nn.modules.block.C3k2            [256, 256, 1, True]           \n",
            "  9                  -1  1    164608  ultralytics.nn.modules.block.SPPF            [256, 256, 5]                 \n",
            " 10                  -1  1    249728  ultralytics.nn.modules.block.C2PSA           [256, 256, 1]                 \n",
            " 11                  -1  1         0  torch.nn.modules.upsampling.Upsample         [None, 2, 'nearest']          \n",
            " 12             [-1, 6]  1         0  ultralytics.nn.modules.conv.Concat           [1]                           \n",
            " 13                  -1  1    111296  ultralytics.nn.modules.block.C3k2            [384, 128, 1, False]          \n",
            " 14                  -1  1         0  torch.nn.modules.upsampling.Upsample         [None, 2, 'nearest']          \n",
            " 15             [-1, 4]  1         0  ultralytics.nn.modules.conv.Concat           [1]                           \n",
            " 16                  -1  1     32096  ultralytics.nn.modules.block.C3k2            [256, 64, 1, False]           \n",
            " 17                  -1  1     36992  ultralytics.nn.modules.conv.Conv             [64, 64, 3, 2]                \n",
            " 18            [-1, 13]  1         0  ultralytics.nn.modules.conv.Concat           [1]                           \n",
            " 19                  -1  1     86720  ultralytics.nn.modules.block.C3k2            [192, 128, 1, False]          \n",
            " 20                  -1  1    147712  ultralytics.nn.modules.conv.Conv             [128, 128, 3, 2]              \n",
            " 21            [-1, 10]  1         0  ultralytics.nn.modules.conv.Concat           [1]                           \n",
            " 22                  -1  1    378880  ultralytics.nn.modules.block.C3k2            [384, 256, 1, True]           \n",
            " 23        [16, 19, 22]  1    431062  ultralytics.nn.modules.head.Detect           [2, [64, 128, 256]]           \n",
            "YOLO11n summary: 181 layers, 2,590,230 parameters, 2,590,214 gradients, 6.4 GFLOPs\n",
            "\n",
            "Transferred 499/499 items from pretrained weights\n",
            "Freezing layer 'model.23.dfl.conv.weight'\n",
            "\u001b[34m\u001b[1mAMP: \u001b[0mrunning Automatic Mixed Precision (AMP) checks...\n",
            "\u001b[34m\u001b[1mAMP: \u001b[0mchecks passed ✅\n",
            "\u001b[34m\u001b[1mtrain: \u001b[0mFast image access ✅ (ping: 0.0±0.0 ms, read: 1073.8±426.2 MB/s, size: 25.8 KB)\n"
          ]
        },
        {
          "output_type": "stream",
          "name": "stderr",
          "text": [
            "\u001b[34m\u001b[1mtrain: \u001b[0mScanning /content/dataset/labels/train.cache... 12439 images, 0 backgrounds, 0 corrupt: 100%|██████████| 12439/12439 [00:00<?, ?it/s]\n"
          ]
        },
        {
          "output_type": "stream",
          "name": "stdout",
          "text": [
            "\u001b[34m\u001b[1malbumentations: \u001b[0mBlur(p=0.01, blur_limit=(3, 7)), MedianBlur(p=0.01, blur_limit=(3, 7)), ToGray(p=0.01, method='weighted_average', num_output_channels=3), CLAHE(p=0.01, clip_limit=(1.0, 4.0), tile_grid_size=(8, 8))\n",
            "\u001b[34m\u001b[1mval: \u001b[0mFast image access ✅ (ping: 0.0±0.0 ms, read: 446.5±281.0 MB/s, size: 21.4 KB)\n"
          ]
        },
        {
          "output_type": "stream",
          "name": "stderr",
          "text": [
            "\u001b[34m\u001b[1mval: \u001b[0mScanning /content/dataset/labels/val.cache... 2786 images, 0 backgrounds, 0 corrupt: 100%|██████████| 2786/2786 [00:00<?, ?it/s]\n"
          ]
        },
        {
          "output_type": "stream",
          "name": "stdout",
          "text": [
            "Plotting labels to yolo_train/log4/labels.jpg... \n",
            "\u001b[34m\u001b[1moptimizer:\u001b[0m 'optimizer=auto' found, ignoring 'lr0=0.01' and 'momentum=0.937' and determining best 'optimizer', 'lr0' and 'momentum' automatically... \n",
            "\u001b[34m\u001b[1moptimizer:\u001b[0m AdamW(lr=0.001667, momentum=0.9) with parameter groups 81 weight(decay=0.0), 88 weight(decay=0.0005), 87 bias(decay=0.0)\n",
            "Image sizes 640 train, 640 val\n",
            "Using 2 dataloader workers\n",
            "Logging results to \u001b[1myolo_train/log4\u001b[0m\n",
            "Starting training for 5 epochs...\n",
            "\n",
            "      Epoch    GPU_mem   box_loss   cls_loss   dfl_loss  Instances       Size\n"
          ]
        },
        {
          "output_type": "stream",
          "name": "stderr",
          "text": [
            "        1/5      2.51G      1.024      1.726      1.324         22        640: 100%|██████████| 778/778 [03:50<00:00,  3.37it/s]\n",
            "                 Class     Images  Instances      Box(P          R      mAP50  mAP50-95): 100%|██████████| 88/88 [00:19<00:00,  4.53it/s]\n"
          ]
        },
        {
          "output_type": "stream",
          "name": "stdout",
          "text": [
            "                   all       2786       3024      0.583      0.521      0.586      0.344\n",
            "\n",
            "      Epoch    GPU_mem   box_loss   cls_loss   dfl_loss  Instances       Size\n"
          ]
        },
        {
          "output_type": "stream",
          "name": "stderr",
          "text": [
            "        2/5      3.41G      1.095      1.398       1.38         14        640: 100%|██████████| 778/778 [03:32<00:00,  3.66it/s]\n",
            "                 Class     Images  Instances      Box(P          R      mAP50  mAP50-95): 100%|██████████| 88/88 [00:16<00:00,  5.26it/s]\n"
          ]
        },
        {
          "output_type": "stream",
          "name": "stdout",
          "text": [
            "                   all       2786       3024      0.719      0.745      0.789      0.553\n",
            "\n",
            "      Epoch    GPU_mem   box_loss   cls_loss   dfl_loss  Instances       Size\n"
          ]
        },
        {
          "output_type": "stream",
          "name": "stderr",
          "text": [
            "        3/5      3.42G      1.059      1.285      1.354         19        640: 100%|██████████| 778/778 [03:26<00:00,  3.77it/s]\n",
            "                 Class     Images  Instances      Box(P          R      mAP50  mAP50-95): 100%|██████████| 88/88 [00:17<00:00,  5.05it/s]"
          ]
        },
        {
          "output_type": "stream",
          "name": "stdout",
          "text": [
            "                   all       2786       3024       0.76      0.731      0.804      0.596\n"
          ]
        },
        {
          "output_type": "stream",
          "name": "stderr",
          "text": [
            "\n"
          ]
        },
        {
          "output_type": "stream",
          "name": "stdout",
          "text": [
            "\n",
            "      Epoch    GPU_mem   box_loss   cls_loss   dfl_loss  Instances       Size\n"
          ]
        },
        {
          "output_type": "stream",
          "name": "stderr",
          "text": [
            "        4/5      3.43G     0.9972      1.174      1.307         23        640: 100%|██████████| 778/778 [03:27<00:00,  3.74it/s]\n",
            "                 Class     Images  Instances      Box(P          R      mAP50  mAP50-95): 100%|██████████| 88/88 [00:16<00:00,  5.19it/s]"
          ]
        },
        {
          "output_type": "stream",
          "name": "stdout",
          "text": [
            "                   all       2786       3024      0.838      0.775      0.862      0.655\n"
          ]
        },
        {
          "output_type": "stream",
          "name": "stderr",
          "text": [
            "\n"
          ]
        },
        {
          "output_type": "stream",
          "name": "stdout",
          "text": [
            "\n",
            "      Epoch    GPU_mem   box_loss   cls_loss   dfl_loss  Instances       Size\n"
          ]
        },
        {
          "output_type": "stream",
          "name": "stderr",
          "text": [
            "        5/5      3.43G     0.9212      1.045      1.256         26        640: 100%|██████████| 778/778 [03:32<00:00,  3.66it/s]\n",
            "                 Class     Images  Instances      Box(P          R      mAP50  mAP50-95): 100%|██████████| 88/88 [00:17<00:00,  5.06it/s]"
          ]
        },
        {
          "output_type": "stream",
          "name": "stdout",
          "text": [
            "                   all       2786       3024       0.87      0.826      0.907      0.717\n"
          ]
        },
        {
          "output_type": "stream",
          "name": "stderr",
          "text": [
            "\n"
          ]
        },
        {
          "output_type": "stream",
          "name": "stdout",
          "text": [
            "\n",
            "5 epochs completed in 0.323 hours.\n",
            "Optimizer stripped from yolo_train/log4/weights/last.pt, 5.4MB\n",
            "Optimizer stripped from yolo_train/log4/weights/best.pt, 5.4MB\n",
            "\n",
            "Validating yolo_train/log4/weights/best.pt...\n",
            "Ultralytics 8.3.170 🚀 Python-3.11.13 torch-2.6.0+cu124 CUDA:0 (Tesla T4, 15095MiB)\n",
            "YOLO11n summary (fused): 100 layers, 2,582,542 parameters, 0 gradients, 6.3 GFLOPs\n"
          ]
        },
        {
          "output_type": "stream",
          "name": "stderr",
          "text": [
            "                 Class     Images  Instances      Box(P          R      mAP50  mAP50-95): 100%|██████████| 88/88 [00:19<00:00,  4.45it/s]\n"
          ]
        },
        {
          "output_type": "stream",
          "name": "stdout",
          "text": [
            "                   all       2786       3024       0.87      0.826      0.907      0.717\n",
            "                   Bus       1207       1321      0.846      0.882      0.922      0.791\n",
            "                 Truck       1584       1703      0.894      0.771      0.892      0.644\n",
            "Speed: 0.2ms preprocess, 1.8ms inference, 0.0ms loss, 1.6ms postprocess per image\n",
            "Results saved to \u001b[1myolo_train/log4\u001b[0m\n"
          ]
        }
      ]
    },
    {
      "cell_type": "code",
      "source": [
        "myModel = YOLO('/content/yolo_train/log4/weights/best.pt')"
      ],
      "metadata": {
        "id": "H2sAdoVHJssW"
      },
      "execution_count": 32,
      "outputs": []
    }
  ]
}